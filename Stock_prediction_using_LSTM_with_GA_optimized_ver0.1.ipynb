{
  "cells": [
    {
      "cell_type": "markdown",
      "metadata": {
        "colab_type": "text",
        "id": "view-in-github"
      },
      "source": [
        "<a href=\"https://colab.research.google.com/github/Sunny20235195/stock-market-price-prediction/blob/main/Stock_prediction_using_LSTM_with_GA_optimized_update.ipynb\" target=\"_parent\"><img src=\"https://colab.research.google.com/assets/colab-badge.svg\" alt=\"Open In Colab\"/></a>"
      ]
    },
    {
      "cell_type": "markdown",
      "id": "e55af1a4",
      "metadata": {},
      "source": [
        "# Bước 1: Nhập thư viện"
      ]
    },
    {
      "cell_type": "code",
      "execution_count": null,
      "id": "a0f6dd76",
      "metadata": {
        "_cell_guid": "b1076dfc-b9ad-4769-8c92-a6c4dae69d19",
        "_uuid": "8f2839f25d086af736a60e9eeb907d3b93b6e0e5",
        "execution": {
          "iopub.execute_input": "2023-06-24T15:28:38.765404Z",
          "iopub.status.busy": "2023-06-24T15:28:38.764916Z",
          "iopub.status.idle": "2023-06-24T15:28:38.781167Z",
          "shell.execute_reply": "2023-06-24T15:28:38.780026Z"
        },
        "id": "a0f6dd76",
        "papermill": {
          "duration": 0.031223,
          "end_time": "2023-06-24T15:28:38.784479",
          "exception": false,
          "start_time": "2023-06-24T15:28:38.753256",
          "status": "completed"
        },
        "tags": []
      },
      "outputs": [],
      "source": [
        "import numpy as np      # tính toán số học và thao tác mảng đa chiều\n",
        "\n",
        "import pandas as pd     # làm việc với dữ liệu bảng biểu\n",
        "\n",
        "import matplotlib.pyplot as plt # vẽ biểu đồ, trực quan hóa dữ liệu\n",
        "\n",
        "import yfinance as yf   # Lấy dữ liệu từ Yahoo Finance"
      ]
    },
    {
      "cell_type": "markdown",
      "id": "6f616de2",
      "metadata": {},
      "source": [
        "# Bước 2: Tải dữ liệu"
      ]
    },
    {
      "cell_type": "code",
      "execution_count": null,
      "id": "61243ece",
      "metadata": {
        "colab": {
          "base_uri": "https://localhost:8080/",
          "height": 460
        },
        "execution": {
          "iopub.execute_input": "2023-06-24T15:28:54.520021Z",
          "iopub.status.busy": "2023-06-24T15:28:54.519207Z",
          "iopub.status.idle": "2023-06-24T15:28:54.985751Z",
          "shell.execute_reply": "2023-06-24T15:28:54.984604Z"
        },
        "id": "61243ece",
        "outputId": "0b1dad13-c36d-40ee-934d-1707e4da9564",
        "papermill": {
          "duration": 0.481226,
          "end_time": "2023-06-24T15:28:54.989303",
          "exception": false,
          "start_time": "2023-06-24T15:28:54.508077",
          "status": "completed"
        },
        "tags": []
      },
      "outputs": [],
      "source": [
        "# Tải dữ liệu cổ phiếu hàng ngày của Google trong 5 năm. Chi tiết:\n",
        "    # df là viết tắt của \"DataFrame\", tức lưu dữ liệu tải được dưới dạng bảng biểu\n",
        "    # \"GOOG\" : mã cổ phiếu\n",
        "    # period=\"5y\": Thời gian truy xuất dữ liệu\n",
        "    # Period '1w' is invalid, must be of the format 1d, 5d, 1mo, 3mo, 6mo, 1y, 2y, 5y, 10y, ytd, max, etc.\"\n",
        "    # interval=\"1d\": lấy dữ liệu theo ngày\n",
        "df = yf.download(\"GOOG\", period=\"5y\", interval=\"1d\") \n",
        "\n",
        "# Xem 10 dòng đầu dữ liệu để kiểm tra sơ bộ dữ liệu vừa tải\n",
        "df.tail(10) "
      ]
    },
    {
      "cell_type": "markdown",
      "id": "21967d1d",
      "metadata": {},
      "source": [
        "# Bước 3: Tiền xử lí dữ liệu"
      ]
    },
    {
      "cell_type": "markdown",
      "id": "af1b61fa",
      "metadata": {},
      "source": [
        "## 3.1. Điền vào các ngày không có dữ liệu (T7, CN)\n",
        "Việc này nhằm đảm bảo biến thời gian là biến liên tục"
      ]
    },
    {
      "cell_type": "code",
      "execution_count": null,
      "id": "283cb8a7",
      "metadata": {
        "colab": {
          "base_uri": "https://localhost:8080/",
          "height": 425
        },
        "execution": {
          "iopub.execute_input": "2023-06-24T15:28:55.019868Z",
          "iopub.status.busy": "2023-06-24T15:28:55.018553Z",
          "iopub.status.idle": "2023-06-24T15:28:55.064573Z",
          "shell.execute_reply": "2023-06-24T15:28:55.063274Z"
        },
        "id": "283cb8a7",
        "outputId": "4d095493-8284-4b14-f1db-754a291aff6d",
        "papermill": {
          "duration": 0.062836,
          "end_time": "2023-06-24T15:28:55.067576",
          "exception": false,
          "start_time": "2023-06-24T15:28:55.004740",
          "status": "completed"
        },
        "tags": []
      },
      "outputs": [],
      "source": [
        "# Đảm bảo dữ liệu là của các ngày liên tục ('D': daily), \n",
        "# các ngày không có dữ liệu (T7,CN) thì giá trị dữ liệu được gán NaN\n",
        "df = df.asfreq('D') \n",
        "\n",
        "# Kiểm tra 10 dòng đầu để đảm bảo không sót ngày nào\n",
        "df.tail(10)"
      ]
    },
    {
      "cell_type": "markdown",
      "id": "4f238428",
      "metadata": {},
      "source": [
        "## 3.2. Ghi đè các giá trị không hợp lệ (NaN)\n",
        "Việc này đảm bảo tính nhất quán cho dữ liệu, mọi giá trị của giá cổ phiếu đều là số"
      ]
    },
    {
      "cell_type": "code",
      "execution_count": 95,
      "id": "3a44cba8",
      "metadata": {
        "colab": {
          "base_uri": "https://localhost:8080/",
          "height": 460
        },
        "execution": {
          "iopub.execute_input": "2023-06-24T15:28:55.094578Z",
          "iopub.status.busy": "2023-06-24T15:28:55.093623Z",
          "iopub.status.idle": "2023-06-24T15:28:55.118074Z",
          "shell.execute_reply": "2023-06-24T15:28:55.117150Z"
        },
        "id": "3a44cba8",
        "outputId": "b841014c-3c4a-4deb-fcac-034fd5ecee53",
        "papermill": {
          "duration": 0.0418,
          "end_time": "2023-06-24T15:28:55.120789",
          "exception": false,
          "start_time": "2023-06-24T15:28:55.078989",
          "status": "completed"
        },
        "tags": []
      },
      "outputs": [
        {
          "name": "stderr",
          "output_type": "stream",
          "text": [
            "/tmp/ipykernel_9415/2323648087.py:4: FutureWarning: DataFrame.fillna with 'method' is deprecated and will raise in a future version. Use obj.ffill() or obj.bfill() instead.\n",
            "  df = df.fillna(method='ffill')\n"
          ]
        },
        {
          "data": {
            "text/html": [
              "<div>\n",
              "<style scoped>\n",
              "    .dataframe tbody tr th:only-of-type {\n",
              "        vertical-align: middle;\n",
              "    }\n",
              "\n",
              "    .dataframe tbody tr th {\n",
              "        vertical-align: top;\n",
              "    }\n",
              "\n",
              "    .dataframe thead tr th {\n",
              "        text-align: left;\n",
              "    }\n",
              "\n",
              "    .dataframe thead tr:last-of-type th {\n",
              "        text-align: right;\n",
              "    }\n",
              "</style>\n",
              "<table border=\"1\" class=\"dataframe\">\n",
              "  <thead>\n",
              "    <tr>\n",
              "      <th>Price</th>\n",
              "      <th>Close</th>\n",
              "      <th>High</th>\n",
              "      <th>Low</th>\n",
              "      <th>Open</th>\n",
              "      <th>Volume</th>\n",
              "    </tr>\n",
              "    <tr>\n",
              "      <th>Ticker</th>\n",
              "      <th>GOOG</th>\n",
              "      <th>GOOG</th>\n",
              "      <th>GOOG</th>\n",
              "      <th>GOOG</th>\n",
              "      <th>GOOG</th>\n",
              "    </tr>\n",
              "    <tr>\n",
              "      <th>Date</th>\n",
              "      <th></th>\n",
              "      <th></th>\n",
              "      <th></th>\n",
              "      <th></th>\n",
              "      <th></th>\n",
              "    </tr>\n",
              "  </thead>\n",
              "  <tbody>\n",
              "    <tr>\n",
              "      <th>2025-05-10</th>\n",
              "      <td>154.380005</td>\n",
              "      <td>156.429993</td>\n",
              "      <td>153.830002</td>\n",
              "      <td>155.550003</td>\n",
              "      <td>22871000.0</td>\n",
              "    </tr>\n",
              "    <tr>\n",
              "      <th>2025-05-11</th>\n",
              "      <td>154.380005</td>\n",
              "      <td>156.429993</td>\n",
              "      <td>153.830002</td>\n",
              "      <td>155.550003</td>\n",
              "      <td>22871000.0</td>\n",
              "    </tr>\n",
              "    <tr>\n",
              "      <th>2025-05-12</th>\n",
              "      <td>159.580002</td>\n",
              "      <td>160.440002</td>\n",
              "      <td>157.889999</td>\n",
              "      <td>159.100006</td>\n",
              "      <td>31884900.0</td>\n",
              "    </tr>\n",
              "    <tr>\n",
              "      <th>2025-05-13</th>\n",
              "      <td>160.889999</td>\n",
              "      <td>162.059998</td>\n",
              "      <td>157.580002</td>\n",
              "      <td>159.919998</td>\n",
              "      <td>24944300.0</td>\n",
              "    </tr>\n",
              "    <tr>\n",
              "      <th>2025-05-14</th>\n",
              "      <td>166.809998</td>\n",
              "      <td>168.339996</td>\n",
              "      <td>160.929993</td>\n",
              "      <td>161.309998</td>\n",
              "      <td>31769200.0</td>\n",
              "    </tr>\n",
              "    <tr>\n",
              "      <th>2025-05-15</th>\n",
              "      <td>165.399994</td>\n",
              "      <td>167.509995</td>\n",
              "      <td>163.839996</td>\n",
              "      <td>167.139999</td>\n",
              "      <td>22717600.0</td>\n",
              "    </tr>\n",
              "    <tr>\n",
              "      <th>2025-05-16</th>\n",
              "      <td>167.429993</td>\n",
              "      <td>170.649994</td>\n",
              "      <td>166.949997</td>\n",
              "      <td>168.929993</td>\n",
              "      <td>36271400.0</td>\n",
              "    </tr>\n",
              "    <tr>\n",
              "      <th>2025-05-17</th>\n",
              "      <td>167.429993</td>\n",
              "      <td>170.649994</td>\n",
              "      <td>166.949997</td>\n",
              "      <td>168.929993</td>\n",
              "      <td>36271400.0</td>\n",
              "    </tr>\n",
              "    <tr>\n",
              "      <th>2025-05-18</th>\n",
              "      <td>167.429993</td>\n",
              "      <td>170.649994</td>\n",
              "      <td>166.949997</td>\n",
              "      <td>168.929993</td>\n",
              "      <td>36271400.0</td>\n",
              "    </tr>\n",
              "    <tr>\n",
              "      <th>2025-05-19</th>\n",
              "      <td>167.869995</td>\n",
              "      <td>167.949997</td>\n",
              "      <td>165.414993</td>\n",
              "      <td>165.714996</td>\n",
              "      <td>20873100.0</td>\n",
              "    </tr>\n",
              "  </tbody>\n",
              "</table>\n",
              "</div>"
            ],
            "text/plain": [
              "Price            Close        High         Low        Open      Volume\n",
              "Ticker            GOOG        GOOG        GOOG        GOOG        GOOG\n",
              "Date                                                                  \n",
              "2025-05-10  154.380005  156.429993  153.830002  155.550003  22871000.0\n",
              "2025-05-11  154.380005  156.429993  153.830002  155.550003  22871000.0\n",
              "2025-05-12  159.580002  160.440002  157.889999  159.100006  31884900.0\n",
              "2025-05-13  160.889999  162.059998  157.580002  159.919998  24944300.0\n",
              "2025-05-14  166.809998  168.339996  160.929993  161.309998  31769200.0\n",
              "2025-05-15  165.399994  167.509995  163.839996  167.139999  22717600.0\n",
              "2025-05-16  167.429993  170.649994  166.949997  168.929993  36271400.0\n",
              "2025-05-17  167.429993  170.649994  166.949997  168.929993  36271400.0\n",
              "2025-05-18  167.429993  170.649994  166.949997  168.929993  36271400.0\n",
              "2025-05-19  167.869995  167.949997  165.414993  165.714996  20873100.0"
            ]
          },
          "execution_count": 95,
          "metadata": {},
          "output_type": "execute_result"
        }
      ],
      "source": [
        "# fillna() là hàm dùng để ghi đè các ô có giá trị NaN\n",
        "# method='ffill' (forward fill) nghĩa là: Nếu một ô có giá trị NaN, \n",
        "# hãy lấy giá trị ở dòng phía trên nó để điền vào ()\n",
        "df = df.fillna(method='ffill') \n",
        "\n",
        "# Kiểm tra 10 dòng đầu để đảm bảo không còn giá trị NaN nào.\n",
        "df.tail(10) "
      ]
    },
    {
      "cell_type": "markdown",
      "id": "ebbe0b1a",
      "metadata": {},
      "source": [
        "## 3.3. Lọc lấy dữ liệu giá đóng cửa"
      ]
    },
    {
      "cell_type": "code",
      "execution_count": 96,
      "id": "fd3def2c",
      "metadata": {
        "colab": {
          "base_uri": "https://localhost:8080/",
          "height": 425
        },
        "execution": {
          "iopub.execute_input": "2023-06-24T15:28:55.150273Z",
          "iopub.status.busy": "2023-06-24T15:28:55.149332Z",
          "iopub.status.idle": "2023-06-24T15:28:55.164683Z",
          "shell.execute_reply": "2023-06-24T15:28:55.163471Z"
        },
        "id": "fd3def2c",
        "outputId": "f6f14391-e38d-43ca-9ca0-bc5c44d3ed39",
        "papermill": {
          "duration": 0.034017,
          "end_time": "2023-06-24T15:28:55.167522",
          "exception": false,
          "start_time": "2023-06-24T15:28:55.133505",
          "status": "completed"
        },
        "tags": []
      },
      "outputs": [
        {
          "data": {
            "text/html": [
              "<div>\n",
              "<style scoped>\n",
              "    .dataframe tbody tr th:only-of-type {\n",
              "        vertical-align: middle;\n",
              "    }\n",
              "\n",
              "    .dataframe tbody tr th {\n",
              "        vertical-align: top;\n",
              "    }\n",
              "\n",
              "    .dataframe thead tr th {\n",
              "        text-align: left;\n",
              "    }\n",
              "\n",
              "    .dataframe thead tr:last-of-type th {\n",
              "        text-align: right;\n",
              "    }\n",
              "</style>\n",
              "<table border=\"1\" class=\"dataframe\">\n",
              "  <thead>\n",
              "    <tr>\n",
              "      <th>Price</th>\n",
              "      <th>Close</th>\n",
              "    </tr>\n",
              "    <tr>\n",
              "      <th>Ticker</th>\n",
              "      <th>GOOG</th>\n",
              "    </tr>\n",
              "    <tr>\n",
              "      <th>Date</th>\n",
              "      <th></th>\n",
              "    </tr>\n",
              "  </thead>\n",
              "  <tbody>\n",
              "    <tr>\n",
              "      <th>2025-05-10</th>\n",
              "      <td>154.380005</td>\n",
              "    </tr>\n",
              "    <tr>\n",
              "      <th>2025-05-11</th>\n",
              "      <td>154.380005</td>\n",
              "    </tr>\n",
              "    <tr>\n",
              "      <th>2025-05-12</th>\n",
              "      <td>159.580002</td>\n",
              "    </tr>\n",
              "    <tr>\n",
              "      <th>2025-05-13</th>\n",
              "      <td>160.889999</td>\n",
              "    </tr>\n",
              "    <tr>\n",
              "      <th>2025-05-14</th>\n",
              "      <td>166.809998</td>\n",
              "    </tr>\n",
              "    <tr>\n",
              "      <th>2025-05-15</th>\n",
              "      <td>165.399994</td>\n",
              "    </tr>\n",
              "    <tr>\n",
              "      <th>2025-05-16</th>\n",
              "      <td>167.429993</td>\n",
              "    </tr>\n",
              "    <tr>\n",
              "      <th>2025-05-17</th>\n",
              "      <td>167.429993</td>\n",
              "    </tr>\n",
              "    <tr>\n",
              "      <th>2025-05-18</th>\n",
              "      <td>167.429993</td>\n",
              "    </tr>\n",
              "    <tr>\n",
              "      <th>2025-05-19</th>\n",
              "      <td>167.869995</td>\n",
              "    </tr>\n",
              "  </tbody>\n",
              "</table>\n",
              "</div>"
            ],
            "text/plain": [
              "Price            Close\n",
              "Ticker            GOOG\n",
              "Date                  \n",
              "2025-05-10  154.380005\n",
              "2025-05-11  154.380005\n",
              "2025-05-12  159.580002\n",
              "2025-05-13  160.889999\n",
              "2025-05-14  166.809998\n",
              "2025-05-15  165.399994\n",
              "2025-05-16  167.429993\n",
              "2025-05-17  167.429993\n",
              "2025-05-18  167.429993\n",
              "2025-05-19  167.869995"
            ]
          },
          "execution_count": 96,
          "metadata": {},
          "output_type": "execute_result"
        }
      ],
      "source": [
        "# Lấy ra duy nhất cột giá đóng cửa (Close) – \n",
        "# đây là dữ liệu quan trọng nhất trong phân tích tài chính và dự báo.\n",
        "ts = df[['Close']] \n",
        "\n",
        "# Kiểm tra 10 giá trị đầu của chuỗi Close, để đảm bảo dữ liệu được lọc đúng.\n",
        "ts.tail(10)"
      ]
    },
    {
      "cell_type": "markdown",
      "id": "dfaf89fd",
      "metadata": {},
      "source": [
        "## 3.4. Vẽ biểu đồ trực quan hóa dữ liệu theo thời gian"
      ]
    },
    {
      "cell_type": "code",
      "execution_count": 97,
      "id": "89b5946d",
      "metadata": {
        "colab": {
          "base_uri": "https://localhost:8080/",
          "height": 542
        },
        "execution": {
          "iopub.execute_input": "2023-06-24T15:28:55.192818Z",
          "iopub.status.busy": "2023-06-24T15:28:55.191971Z",
          "iopub.status.idle": "2023-06-24T15:28:55.626071Z",
          "shell.execute_reply": "2023-06-24T15:28:55.624861Z"
        },
        "id": "89b5946d",
        "outputId": "7dfaba3c-f634-4d44-9874-afcc48d5405a",
        "papermill": {
          "duration": 0.450113,
          "end_time": "2023-06-24T15:28:55.628921",
          "exception": false,
          "start_time": "2023-06-24T15:28:55.178808",
          "status": "completed"
        },
        "tags": []
      },
      "outputs": [
        {
          "data": {
            "image/png": "[encoded data removed]",
            "text/plain": [
              "<Figure size 1000x600 with 1 Axes>"
            ]
          },
          "metadata": {},
          "output_type": "display_data"
        }
      ],
      "source": [
        "# Tạo khung hình biểu đồ với kích thước 10inch * 6inch\n",
        "plt.figure(figsize=(10, 6)) \n",
        "\n",
        "# plt.plot: hàm vẽ dữ liệu đường\n",
        "# ts.index: Trục hoành (x-axis), ts.values: Trục tung (y-axis)\n",
        "plt.plot(ts.index, ts.values, label='Original Data')\n",
        "\n",
        "# Hiển thị chú thích cho các đường đã vẽ (nhìn vào góc trên cùng bên phải là thấy)\n",
        "plt.legend() \n",
        "\n",
        "# Gán nhãn cho trục hoành (x-axis) là Time\n",
        "plt.xlabel('Time')\n",
        "\n",
        "# Gán nhãn cho trục tung (y-axis) là Value\n",
        "plt.ylabel('Value')\n",
        "\n",
        "# hiện thị biểu đồ ra màn hình\n",
        "plt.show() "
      ]
    },
    {
      "cell_type": "markdown",
      "id": "b79f095e",
      "metadata": {},
      "source": [
        "## 3.5. Chia tách dữ liệu thành tập huấn luyện và tập kiểm tra"
      ]
    },
    {
      "cell_type": "code",
      "execution_count": 98,
      "id": "7b6b251c",
      "metadata": {
        "execution": {
          "iopub.execute_input": "2023-06-24T15:28:58.468009Z",
          "iopub.status.busy": "2023-06-24T15:28:58.467264Z",
          "iopub.status.idle": "2023-06-24T15:28:58.473670Z",
          "shell.execute_reply": "2023-06-24T15:28:58.472483Z"
        },
        "id": "7b6b251c",
        "papermill": {
          "duration": 0.025549,
          "end_time": "2023-06-24T15:28:58.476389",
          "exception": false,
          "start_time": "2023-06-24T15:28:58.450840",
          "status": "completed"
        },
        "tags": []
      },
      "outputs": [],
      "source": [
        "# train/test split:chia tập dữ liệu thời gian thành tập huấn luyện và tập kiểm tra.\n",
        "# tặp dữ liệu test: dùng để kiểm tra dự đoán đúng hay sai dựa vào so sánh đồ thị tập dữ liệu test và đồ thị dự đoán\n",
        "# 0.8 là tỷ lệ dùng để chia dữ liệu ra: 80% dùng để huấn luyện (train), còn lại 20% để kiểm tra (test)\n",
        "# trích ra 80% đầu tiên của ts – tức là tập huấn luyện (ts_train).\n",
        "ts_train = ts.iloc[:int(ts.size * 0.8)] \n",
        "\n",
        "# trích ra 20% còn lại,tức là tập kiểm tra (ts_test).\n",
        "ts_test = ts.iloc[int(ts.size * 0.8):] "
      ]
    },
    {
      "cell_type": "markdown",
      "id": "89155657",
      "metadata": {},
      "source": [
        "## 3.6. Trực quan hóa tập dữ liệu và tập kiểm tra trên đồ thị"
      ]
    },
    {
      "cell_type": "code",
      "execution_count": 99,
      "id": "aa927b92",
      "metadata": {
        "colab": {
          "base_uri": "https://localhost:8080/",
          "height": 542
        },
        "execution": {
          "iopub.execute_input": "2023-06-24T15:28:58.507799Z",
          "iopub.status.busy": "2023-06-24T15:28:58.507307Z",
          "iopub.status.idle": "2023-06-24T15:28:58.875619Z",
          "shell.execute_reply": "2023-06-24T15:28:58.874412Z"
        },
        "id": "aa927b92",
        "outputId": "c9aee4af-3180-4b2f-ab3f-821389fc0e6f",
        "papermill": {
          "duration": 0.388217,
          "end_time": "2023-06-24T15:28:58.879273",
          "exception": false,
          "start_time": "2023-06-24T15:28:58.491056",
          "status": "completed"
        },
        "tags": []
      },
      "outputs": [
        {
          "data": {
            "image/png": "[encoded data removed]",
            "text/plain": [
              "<Figure size 1000x600 with 1 Axes>"
            ]
          },
          "metadata": {},
          "output_type": "display_data"
        }
      ],
      "source": [
        "plt.figure(figsize=(10, 6))\n",
        "\n",
        "# phân biệt tập dữ liệu train bằng màu xanh da trời, tập dữ liệu test bằng màu xanh lá cây\n",
        "plt.plot(ts_train.index, ts_train.values, 'blue', label='Train Data')   # vẽ tập dữ liệu train màu xanh da trời\n",
        "plt.plot(ts_test.index, ts_test.values, 'green', label='Test Data')     # vẽ tập dữ liệu test màu xanh lá cây\n",
        "\n",
        "plt.legend()\n",
        "plt.xlabel('Time')\n",
        "plt.ylabel('Value')\n",
        "plt.show()"
      ]
    },
    {
      "cell_type": "markdown",
      "id": "fd43434f",
      "metadata": {},
      "source": [
        "# Bước 4: Định nghĩa mô hình LSTM cải tiến bằng GA"
      ]
    },
    {
      "cell_type": "markdown",
      "id": "47da1c73",
      "metadata": {},
      "source": [
        "## 4.1. Định nghĩa mô hình LSTM"
      ]
    },
    {
      "cell_type": "code",
      "execution_count": 100,
      "id": "KALLeBOmVA6J",
      "metadata": {
        "colab": {
          "base_uri": "https://localhost:8080/"
        },
        "id": "KALLeBOmVA6J",
        "outputId": "982b151e-0ccf-454c-c505-a40e480db58d"
      },
      "outputs": [
        {
          "name": "stdout",
          "output_type": "stream",
          "text": [
            "Overwriting simple_lstm.py\n"
          ]
        }
      ],
      "source": [
        "%%writefile simple_lstm.py\n",
        "import numpy as np\n",
        "\n",
        "class LSTM:\n",
        "    def __init__(self, input_size, hidden_size, output_size, learning_rate=0.01):\n",
        "        self.input_size = input_size\n",
        "        self.hidden_size = hidden_size\n",
        "        self.output_size = output_size\n",
        "        self.lr = learning_rate\n",
        "\n",
        "        # Khởi tạo trọng số LSTM gates\n",
        "        self.Wf = np.random.randn(hidden_size, hidden_size + input_size) * 0.1\n",
        "        self.Wi = np.random.randn(hidden_size, hidden_size + input_size) * 0.1\n",
        "        self.Wo = np.random.randn(hidden_size, hidden_size + input_size) * 0.1\n",
        "        self.Wc = np.random.randn(hidden_size, hidden_size + input_size) * 0.1\n",
        "\n",
        "        self.bf = np.zeros((hidden_size, 1))\n",
        "        self.bi = np.zeros((hidden_size, 1))\n",
        "        self.bo = np.zeros((hidden_size, 1))\n",
        "        self.bc = np.zeros((hidden_size, 1))\n",
        "\n",
        "        # Output layer\n",
        "        self.Wy = np.random.randn(output_size, hidden_size) * 0.1\n",
        "        self.by = np.zeros((output_size, 1))\n",
        "\n",
        "    def sigmoid(self, x):\n",
        "        return 1 / (1 + np.exp(-x))\n",
        "\n",
        "    def dsigmoid(self, y):\n",
        "        return y * (1 - y)\n",
        "\n",
        "    def tanh(self, x):\n",
        "        return np.tanh(x)\n",
        "\n",
        "    def dtanh(self, y):\n",
        "        return 1 - y**2\n",
        "\n",
        "    def forward(self, inputs):\n",
        "        self.seq_len = inputs.shape[0]\n",
        "        self.h = np.zeros((self.seq_len + 1, self.hidden_size, 1))\n",
        "        self.c = np.zeros((self.seq_len + 1, self.hidden_size, 1))\n",
        "\n",
        "        self.f = np.zeros((self.seq_len, self.hidden_size, 1))\n",
        "        self.i = np.zeros((self.seq_len, self.hidden_size, 1))\n",
        "        self.o = np.zeros((self.seq_len, self.hidden_size, 1))\n",
        "        self.c_bar = np.zeros((self.seq_len, self.hidden_size, 1))\n",
        "        self.x = [inputs[t].reshape(-1, 1) for t in range(self.seq_len)]\n",
        "\n",
        "        outputs = []\n",
        "\n",
        "        for t in range(self.seq_len):\n",
        "            combined = np.vstack((self.h[t], self.x[t]))\n",
        "\n",
        "            self.f[t] = self.sigmoid(np.dot(self.Wf, combined) + self.bf)\n",
        "            self.i[t] = self.sigmoid(np.dot(self.Wi, combined) + self.bi)\n",
        "            self.o[t] = self.sigmoid(np.dot(self.Wo, combined) + self.bo)\n",
        "            self.c_bar[t] = self.tanh(np.dot(self.Wc, combined) + self.bc)\n",
        "\n",
        "            self.c[t+1] = self.f[t] * self.c[t] + self.i[t] * self.c_bar[t]\n",
        "            self.h[t+1] = self.o[t] * self.tanh(self.c[t+1])\n",
        "\n",
        "            y = np.dot(self.Wy, self.h[t+1]) + self.by\n",
        "            outputs.append(y)\n",
        "\n",
        "        self.outputs = outputs\n",
        "        return np.array(outputs).squeeze()\n",
        "\n",
        "    def backward(self, targets):\n",
        "        # targets: (seq_len, output_size)\n",
        "        dWf, dWi, dWo, dWc = [np.zeros_like(w) for w in (self.Wf, self.Wi, self.Wo, self.Wc)]\n",
        "        dbf, dbi, dbo, dbc = [np.zeros_like(b) for b in (self.bf, self.bi, self.bo, self.bc)]\n",
        "        dWy = np.zeros_like(self.Wy)\n",
        "        dby = np.zeros_like(self.by)\n",
        "\n",
        "        dh_next = np.zeros((self.hidden_size, 1))\n",
        "        dc_next = np.zeros((self.hidden_size, 1))\n",
        "        loss = 0\n",
        "\n",
        "        for t in reversed(range(self.seq_len)):\n",
        "            y_pred = self.outputs[t].reshape(-1, 1)\n",
        "            y_true = targets[t].reshape(-1, 1)\n",
        "\n",
        "            dy = y_pred - y_true\n",
        "            loss += np.sum(dy**2)\n",
        "\n",
        "            dWy += np.dot(dy, self.h[t+1].T)\n",
        "            dby += dy\n",
        "\n",
        "            dh = np.dot(self.Wy.T, dy) + dh_next\n",
        "            do = dh * self.tanh(self.c[t+1]) * self.dsigmoid(self.o[t])\n",
        "            dc = dh * self.o[t] * self.dtanh(self.tanh(self.c[t+1])) + dc_next\n",
        "            di = dc * self.c_bar[t] * self.dsigmoid(self.i[t])\n",
        "            df = dc * self.c[t] * self.dsigmoid(self.f[t])\n",
        "            dc_bar = dc * self.i[t] * self.dtanh(self.c_bar[t])\n",
        "\n",
        "            combined = np.vstack((self.h[t], self.x[t]))\n",
        "\n",
        "            dWf += np.dot(df, combined.T)\n",
        "            dbf += df\n",
        "            dWi += np.dot(di, combined.T)\n",
        "            dbi += di\n",
        "            dWo += np.dot(do, combined.T)\n",
        "            dbo += do\n",
        "            dWc += np.dot(dc_bar, combined.T)\n",
        "            dbc += dc_bar\n",
        "\n",
        "            dcombined = (\n",
        "                np.dot(self.Wf.T, df) +\n",
        "                np.dot(self.Wi.T, di) +\n",
        "                np.dot(self.Wo.T, do) +\n",
        "                np.dot(self.Wc.T, dc_bar)\n",
        "            )\n",
        "\n",
        "            dh_next = dcombined[:self.hidden_size, :]\n",
        "            dc_next = dc * self.f[t]\n",
        "\n",
        "        # Gradient descent step\n",
        "        for param, dparam in zip(\n",
        "            [self.Wf, self.Wi, self.Wo, self.Wc, self.Wy, self.bf, self.bi, self.bo, self.bc, self.by],\n",
        "            [dWf, dWi, dWo, dWc, dWy, dbf, dbi, dbo, dbc, dby]):\n",
        "            param -= self.lr * dparam\n",
        "\n",
        "        return loss / self.seq_len\n",
        "\n",
        "    def train(self, X_train, y_train, epochs=50):\n",
        "        for epoch in range(epochs):\n",
        "            loss = 0\n",
        "            for x, y in zip(X_train, y_train):\n",
        "                self.forward(x)\n",
        "                loss += self.backward(y)\n",
        "            avg_loss = loss / len(X_train)\n",
        "            if epoch % 10 == 0:\n",
        "                print(f\"Epoch {epoch}, Loss: {avg_loss:.6f}\")\n"
      ]
    },
    {
      "cell_type": "markdown",
      "id": "051e8f71",
      "metadata": {},
      "source": [
        "## 4.2. Định nghĩa giải thuật di truyền"
      ]
    },
    {
      "cell_type": "code",
      "execution_count": 101,
      "id": "uxQ0VoEvVG2f",
      "metadata": {
        "colab": {
          "base_uri": "https://localhost:8080/"
        },
        "id": "uxQ0VoEvVG2f",
        "outputId": "2c7e306f-cece-4267-9ff9-d304a25fb1db"
      },
      "outputs": [
        {
          "name": "stdout",
          "output_type": "stream",
          "text": [
            "Overwriting genetic_algorithm.py\n"
          ]
        }
      ],
      "source": [
        "%%writefile genetic_algorithm.py\n",
        "import random\n",
        "import numpy as np\n",
        "\n",
        "class GeneticAlgorithm:\n",
        "    \"\"\"\n",
        "    Thuật toán di truyền cơ bản để tối ưu hóa tham số.\n",
        "\n",
        "    Tham số\n",
        "    -------\n",
        "    fitness_func : callable\n",
        "        Hàm mục tiêu cần tối ưu (giá trị càng cao càng tốt nếu maximize=True).\n",
        "    bounds : list of tuple\n",
        "        Danh sách (min, max) cho mỗi tham số.\n",
        "    population_size : int, optional\n",
        "        Kích thước quần thể mỗi thế hệ (mặc định=20).\n",
        "    generations : int, optional\n",
        "        Số thế hệ (vòng lặp) cần chạy (mặc định=50).\n",
        "    mutation_rate : float, optional\n",
        "        Xác suất đột biến mỗi gene (mặc định=0.1).\n",
        "    elitism : bool, optional\n",
        "        Giữ lại cá thể tốt nhất qua thế hệ sau (mặc định=True).\n",
        "    maximize : bool, optional\n",
        "        Tối đa hóa (True) hay tối thiểu hóa (False) hàm mục tiêu (mặc định=True).\n",
        "    \"\"\"\n",
        "\n",
        "    def __init__(self, fitness_func, bounds, population_size=20, generations=50,\n",
        "                 mutation_rate=0.1, elitism=True, maximize=True):\n",
        "        self.fitness_func = fitness_func\n",
        "        self.bounds = bounds\n",
        "        self.population_size = population_size\n",
        "        self.generations = generations\n",
        "        self.mutation_rate = mutation_rate\n",
        "        self.elitism = elitism\n",
        "        self.maximize = maximize\n",
        "\n",
        "    def _initialize_population(self):\n",
        "        # Khởi tạo ngẫu nhiên quần thể ban đầu trong khoảng ràng buộc\n",
        "        return [\n",
        "            [random.uniform(low, high) for (low, high) in self.bounds]\n",
        "            for _ in range(self.population_size)\n",
        "        ]\n",
        "\n",
        "    def _evaluate_population(self, population):\n",
        "        # Tính độ thích nghi của từng cá thể\n",
        "        return [self.fitness_func(individual) for individual in population]\n",
        "\n",
        "    def _select_parents(self, population, fitnesses, k=3):\n",
        "        # Lựa chọn cha mẹ theo tournament selection\n",
        "        parents = []\n",
        "        for _ in range(self.population_size):\n",
        "            aspirants = random.sample(list(zip(population, fitnesses)), k)\n",
        "            winner = max(aspirants, key=lambda x: x[1])[0] if self.maximize else min(aspirants, key=lambda x: x[1])[0]\n",
        "            parents.append(winner)\n",
        "        return parents\n",
        "\n",
        "    def _crossover(self, parent1, parent2):\n",
        "        # Lai ghép hai cha mẹ tại điểm ngẫu nhiên\n",
        "        point = random.randint(1, len(parent1) - 1)\n",
        "        return parent1[:point] + parent2[point:]\n",
        "\n",
        "    def _mutate(self, individual):\n",
        "        # Đột biến từng gene với xác suất mutation_rate\n",
        "        return [\n",
        "            gene + random.uniform(-0.1, 0.1) if random.random() < self.mutation_rate else gene\n",
        "            for gene in individual\n",
        "        ]\n",
        "\n",
        "    def run(self):\n",
        "        \"\"\"\n",
        "        Chạy quá trình tối ưu bằng thuật toán di truyền.\n",
        "\n",
        "        Trả về\n",
        "        -------\n",
        "        best_individual : list\n",
        "            Bộ tham số tốt nhất tìm được.\n",
        "        best_fitness : float\n",
        "            Giá trị fitness tương ứng với cá thể tốt nhất.\n",
        "        \"\"\"\n",
        "        population = self._initialize_population()\n",
        "        best_individual = None\n",
        "        best_fitness = -float('inf') if self.maximize else float('inf')\n",
        "\n",
        "        for gen in range(self.generations):\n",
        "            fitnesses = self._evaluate_population(population)\n",
        "            current_best_idx = int(np.argmax(fitnesses)) if self.maximize else int(np.argmin(fitnesses))\n",
        "            current_best = population[current_best_idx]\n",
        "            current_best_fit = fitnesses[current_best_idx]\n",
        "\n",
        "            if (self.maximize and current_best_fit > best_fitness) or \\\n",
        "               (not self.maximize and current_best_fit < best_fitness):\n",
        "                best_individual = current_best\n",
        "                best_fitness = current_best_fit\n",
        "\n",
        "            print(f\"Thế hệ {gen}: Fitness tốt nhất = {best_fitness:.5f}\")\n",
        "\n",
        "            parents = self._select_parents(population, fitnesses)\n",
        "            next_population = []\n",
        "\n",
        "            if self.elitism:\n",
        "                next_population.append(best_individual)  # Giữ lại cá thể tốt nhất\n",
        "\n",
        "            while len(next_population) < self.population_size:\n",
        "                p1, p2 = random.sample(parents, 2)\n",
        "                child = self._crossover(p1, p2)\n",
        "                child = self._mutate(child)\n",
        "                # Giới hạn giá trị gene trong khoảng ràng buộc\n",
        "                child = [np.clip(g, *self.bounds[i]) for i, g in enumerate(child)]\n",
        "                next_population.append(child)\n",
        "\n",
        "            population = next_population\n",
        "\n",
        "        return best_individual, best_fitness\n"
      ]
    },
    {
      "cell_type": "markdown",
      "id": "1cc3f80e",
      "metadata": {},
      "source": [
        "# Bước 5: Huấn luyện mô hình"
      ]
    },
    {
      "cell_type": "markdown",
      "id": "6af2aaa3",
      "metadata": {},
      "source": [
        "## 5.1. Định nghĩa phương thức create_sequence()"
      ]
    },
    {
      "cell_type": "code",
      "execution_count": 102,
      "id": "0edaf9e0",
      "metadata": {
        "execution": {
          "iopub.execute_input": "2023-06-24T15:29:08.950001Z",
          "iopub.status.busy": "2023-06-24T15:29:08.949419Z",
          "iopub.status.idle": "2023-06-24T15:29:09.316916Z",
          "shell.execute_reply": "2023-06-24T15:29:09.315515Z"
        },
        "id": "0edaf9e0",
        "papermill": {
          "duration": 0.388198,
          "end_time": "2023-06-24T15:29:09.320327",
          "exception": false,
          "start_time": "2023-06-24T15:29:08.932129",
          "status": "completed"
        },
        "tags": []
      },
      "outputs": [],
      "source": [
        "def create_sequences(data, window_size):\n",
        "    X, y = [], []\n",
        "    for i in range(len(data) - window_size):\n",
        "        X.append(data[i:i+window_size])\n",
        "        y.append(data[i+window_size])\n",
        "    return np.array(X), np.array(y)\n",
        "\n",
        "# Chuẩn hóa dữ liệu cho LSTM\n",
        "from sklearn.preprocessing import MinMaxScaler\n",
        "\n",
        "scaler = MinMaxScaler()\n",
        "ts_scaled = scaler.fit_transform(ts)\n",
        "\n",
        "# Cắt dữ liệu đã chuẩn hóa thành train/test\n",
        "train_scaled = ts_scaled[:int(len(ts_scaled) * 0.8)]\n",
        "test_scaled = ts_scaled[int(len(ts_scaled) * 0.8):]\n"
      ]
    },
    {
      "cell_type": "markdown",
      "id": "6a949dd3",
      "metadata": {},
      "source": [
        "## 5.2. Định nghĩa phương thức fitness_function()"
      ]
    },
    {
      "cell_type": "code",
      "execution_count": 103,
      "id": "zu9ytOjdTQpQ",
      "metadata": {
        "id": "zu9ytOjdTQpQ"
      },
      "outputs": [],
      "source": [
        "from simple_lstm import LSTM  # File đã tạo\n",
        "\n",
        "def fitness_function(params):\n",
        "    window_size = int(round(params[0]))  # đảm bảo là int\n",
        "    hidden_size = int(round(params[1]))  # đảm bảo là int\n",
        "\n",
        "    X_train, y_train = create_sequences(train_scaled, window_size)\n",
        "    X_train = [x.reshape(window_size, 1) for x in X_train]\n",
        "    y_train = [y.reshape(1, 1) for y in y_train]\n",
        "\n",
        "    model = LSTM(input_size=1, hidden_size=hidden_size, output_size=1, learning_rate=0.01)\n",
        "    model.train(X_train, y_train, epochs=10)\n",
        "\n",
        "    loss = 0\n",
        "    for x, y in zip(X_train, y_train):\n",
        "        pred = model.forward(x)\n",
        "        loss += np.mean((pred[-1] - y.squeeze())**2)\n",
        "\n",
        "    return -loss  # vì GA đang tối đa hóa\n",
        "\n"
      ]
    },
    {
      "cell_type": "markdown",
      "id": "f7d076af",
      "metadata": {},
      "source": [
        "## 5.3. Lấy tham số window_size và hidden_size đã được tối ưu"
      ]
    },
    {
      "cell_type": "code",
      "execution_count": 104,
      "id": "N6ZAJ9moTWGu",
      "metadata": {
        "colab": {
          "base_uri": "https://localhost:8080/",
          "height": 356
        },
        "id": "N6ZAJ9moTWGu",
        "outputId": "4520115d-f8b8-4b1b-e231-bc1dc64bc9dd"
      },
      "outputs": [
        {
          "ename": "IndexError",
          "evalue": "index 22 is out of bounds for axis 0 with size 1",
          "output_type": "error",
          "traceback": [
            "\u001b[31m---------------------------------------------------------------------------\u001b[39m",
            "\u001b[31mIndexError\u001b[39m                                Traceback (most recent call last)",
            "\u001b[36mCell\u001b[39m\u001b[36m \u001b[39m\u001b[32mIn[104]\u001b[39m\u001b[32m, line 12\u001b[39m\n\u001b[32m      3\u001b[39m \u001b[38;5;66;03m# Giới hạn tham số: window size từ 5 đến 60, số neuron từ 1 đến 100\u001b[39;00m\n\u001b[32m      4\u001b[39m ga = GeneticAlgorithm(\n\u001b[32m      5\u001b[39m     fitness_func=fitness_function,\n\u001b[32m      6\u001b[39m     bounds=[(\u001b[32m5\u001b[39m, \u001b[32m30\u001b[39m), (\u001b[32m10\u001b[39m, \u001b[32m100\u001b[39m)],  \u001b[38;5;66;03m# window_size, hidden_size\u001b[39;00m\n\u001b[32m   (...)\u001b[39m\u001b[32m      9\u001b[39m     maximize=\u001b[38;5;28;01mTrue\u001b[39;00m\n\u001b[32m     10\u001b[39m )\n\u001b[32m---> \u001b[39m\u001b[32m12\u001b[39m best_params, best_score = \u001b[43mga\u001b[49m\u001b[43m.\u001b[49m\u001b[43mrun\u001b[49m\u001b[43m(\u001b[49m\u001b[43m)\u001b[49m\n\u001b[32m     13\u001b[39m window_size = \u001b[38;5;28mint\u001b[39m(best_params[\u001b[32m0\u001b[39m])\n\u001b[32m     14\u001b[39m hidden_size = \u001b[38;5;28mint\u001b[39m(best_params[\u001b[32m1\u001b[39m])\n",
            "\u001b[36mFile \u001b[39m\u001b[32m~/projects/stock-market-price-prediction/genetic_algorithm.py:84\u001b[39m, in \u001b[36mGeneticAlgorithm.run\u001b[39m\u001b[34m(self)\u001b[39m\n\u001b[32m     81\u001b[39m best_fitness = -\u001b[38;5;28mfloat\u001b[39m(\u001b[33m'\u001b[39m\u001b[33minf\u001b[39m\u001b[33m'\u001b[39m) \u001b[38;5;28;01mif\u001b[39;00m \u001b[38;5;28mself\u001b[39m.maximize \u001b[38;5;28;01melse\u001b[39;00m \u001b[38;5;28mfloat\u001b[39m(\u001b[33m'\u001b[39m\u001b[33minf\u001b[39m\u001b[33m'\u001b[39m)\n\u001b[32m     83\u001b[39m \u001b[38;5;28;01mfor\u001b[39;00m gen \u001b[38;5;129;01min\u001b[39;00m \u001b[38;5;28mrange\u001b[39m(\u001b[38;5;28mself\u001b[39m.generations):\n\u001b[32m---> \u001b[39m\u001b[32m84\u001b[39m     fitnesses = \u001b[38;5;28;43mself\u001b[39;49m\u001b[43m.\u001b[49m\u001b[43m_evaluate_population\u001b[49m\u001b[43m(\u001b[49m\u001b[43mpopulation\u001b[49m\u001b[43m)\u001b[49m\n\u001b[32m     85\u001b[39m     current_best_idx = \u001b[38;5;28mint\u001b[39m(np.argmax(fitnesses)) \u001b[38;5;28;01mif\u001b[39;00m \u001b[38;5;28mself\u001b[39m.maximize \u001b[38;5;28;01melse\u001b[39;00m \u001b[38;5;28mint\u001b[39m(np.argmin(fitnesses))\n\u001b[32m     86\u001b[39m     current_best = population[current_best_idx]\n",
            "\u001b[36mFile \u001b[39m\u001b[32m~/projects/stock-market-price-prediction/genetic_algorithm.py:45\u001b[39m, in \u001b[36mGeneticAlgorithm._evaluate_population\u001b[39m\u001b[34m(self, population)\u001b[39m\n\u001b[32m     43\u001b[39m \u001b[38;5;28;01mdef\u001b[39;00m\u001b[38;5;250m \u001b[39m\u001b[34m_evaluate_population\u001b[39m(\u001b[38;5;28mself\u001b[39m, population):\n\u001b[32m     44\u001b[39m     \u001b[38;5;66;03m# Tính độ thích nghi của từng cá thể\u001b[39;00m\n\u001b[32m---> \u001b[39m\u001b[32m45\u001b[39m     \u001b[38;5;28;01mreturn\u001b[39;00m [\u001b[38;5;28;43mself\u001b[39;49m\u001b[43m.\u001b[49m\u001b[43mfitness_func\u001b[49m\u001b[43m(\u001b[49m\u001b[43mindividual\u001b[49m\u001b[43m)\u001b[49m \u001b[38;5;28;01mfor\u001b[39;00m individual \u001b[38;5;129;01min\u001b[39;00m population]\n",
            "\u001b[36mCell\u001b[39m\u001b[36m \u001b[39m\u001b[32mIn[103]\u001b[39m\u001b[32m, line 12\u001b[39m, in \u001b[36mfitness_function\u001b[39m\u001b[34m(params)\u001b[39m\n\u001b[32m      9\u001b[39m y_train = [y.reshape(\u001b[32m1\u001b[39m, \u001b[32m1\u001b[39m) \u001b[38;5;28;01mfor\u001b[39;00m y \u001b[38;5;129;01min\u001b[39;00m y_train]\n\u001b[32m     11\u001b[39m model = LSTM(input_size=\u001b[32m1\u001b[39m, hidden_size=hidden_size, output_size=\u001b[32m1\u001b[39m, learning_rate=\u001b[32m0.01\u001b[39m)\n\u001b[32m---> \u001b[39m\u001b[32m12\u001b[39m \u001b[43mmodel\u001b[49m\u001b[43m.\u001b[49m\u001b[43mtrain\u001b[49m\u001b[43m(\u001b[49m\u001b[43mX_train\u001b[49m\u001b[43m,\u001b[49m\u001b[43m \u001b[49m\u001b[43my_train\u001b[49m\u001b[43m,\u001b[49m\u001b[43m \u001b[49m\u001b[43mepochs\u001b[49m\u001b[43m=\u001b[49m\u001b[32;43m10\u001b[39;49m\u001b[43m)\u001b[49m\n\u001b[32m     14\u001b[39m loss = \u001b[32m0\u001b[39m\n\u001b[32m     15\u001b[39m \u001b[38;5;28;01mfor\u001b[39;00m x, y \u001b[38;5;129;01min\u001b[39;00m \u001b[38;5;28mzip\u001b[39m(X_train, y_train):\n",
            "\u001b[36mFile \u001b[39m\u001b[32m~/projects/stock-market-price-prediction/simple_lstm.py:129\u001b[39m, in \u001b[36mLSTM.train\u001b[39m\u001b[34m(self, X_train, y_train, epochs)\u001b[39m\n\u001b[32m    127\u001b[39m \u001b[38;5;28;01mfor\u001b[39;00m x, y \u001b[38;5;129;01min\u001b[39;00m \u001b[38;5;28mzip\u001b[39m(X_train, y_train):\n\u001b[32m    128\u001b[39m     \u001b[38;5;28mself\u001b[39m.forward(x)\n\u001b[32m--> \u001b[39m\u001b[32m129\u001b[39m     loss += \u001b[38;5;28;43mself\u001b[39;49m\u001b[43m.\u001b[49m\u001b[43mbackward\u001b[49m\u001b[43m(\u001b[49m\u001b[43my\u001b[49m\u001b[43m)\u001b[49m\n\u001b[32m    130\u001b[39m avg_loss = loss / \u001b[38;5;28mlen\u001b[39m(X_train)\n\u001b[32m    131\u001b[39m \u001b[38;5;28;01mif\u001b[39;00m epoch % \u001b[32m10\u001b[39m == \u001b[32m0\u001b[39m:\n",
            "\u001b[36mFile \u001b[39m\u001b[32m~/projects/stock-market-price-prediction/simple_lstm.py:80\u001b[39m, in \u001b[36mLSTM.backward\u001b[39m\u001b[34m(self, targets)\u001b[39m\n\u001b[32m     78\u001b[39m \u001b[38;5;28;01mfor\u001b[39;00m t \u001b[38;5;129;01min\u001b[39;00m \u001b[38;5;28mreversed\u001b[39m(\u001b[38;5;28mrange\u001b[39m(\u001b[38;5;28mself\u001b[39m.seq_len)):\n\u001b[32m     79\u001b[39m     y_pred = \u001b[38;5;28mself\u001b[39m.outputs[t].reshape(-\u001b[32m1\u001b[39m, \u001b[32m1\u001b[39m)\n\u001b[32m---> \u001b[39m\u001b[32m80\u001b[39m     y_true = \u001b[43mtargets\u001b[49m\u001b[43m[\u001b[49m\u001b[43mt\u001b[49m\u001b[43m]\u001b[49m.reshape(-\u001b[32m1\u001b[39m, \u001b[32m1\u001b[39m)\n\u001b[32m     82\u001b[39m     dy = y_pred - y_true\n\u001b[32m     83\u001b[39m     loss += np.sum(dy**\u001b[32m2\u001b[39m)\n",
            "\u001b[31mIndexError\u001b[39m: index 22 is out of bounds for axis 0 with size 1"
          ]
        }
      ],
      "source": [
        "from genetic_algorithm import GeneticAlgorithm  # File GA đã viết trước đó\n",
        "\n",
        "# Giới hạn tham số: window size từ 5 đến 60, số neuron từ 1 đến 100\n",
        "ga = GeneticAlgorithm(\n",
        "    fitness_func=fitness_function,\n",
        "    bounds=[(5, 30), (10, 100)],  # window_size, hidden_size\n",
        "    population_size=10,\n",
        "    generations=5,\n",
        "    maximize=True\n",
        ")\n",
        "\n",
        "best_params, best_score = ga.run()\n",
        "window_size = int(best_params[0])\n",
        "hidden_size = int(best_params[1])\n",
        "print(f\"Tối ưu: window_size = {window_size}, hidden_size = {hidden_size}\")\n"
      ]
    },
    {
      "cell_type": "markdown",
      "id": "ce42777f",
      "metadata": {},
      "source": [
        "## 5.4. Huấn luyện mô hình bằng tham số tối ưu có được"
      ]
    },
    {
      "cell_type": "code",
      "execution_count": null,
      "id": "L7H6WVPcTjmG",
      "metadata": {
        "id": "L7H6WVPcTjmG"
      },
      "outputs": [],
      "source": [
        "# Lấy params tốt nhất\n",
        "window_size = int(best_params[0])\n",
        "lstm_units = int(best_params[1])\n",
        "\n",
        "# Chuẩn bị dữ liệu train + test để huấn luyện lại\n",
        "series_all = ts.values.flatten()\n",
        "X_all, y_all = create_dataset(series_all, window_size)\n",
        "X_all = X_all.reshape((X_all.shape[0], X_all.shape[1], 1))\n",
        "\n",
        "# Huấn luyện LSTM lại với toàn bộ dữ liệu train + test để dự đoán\n",
        "model = LSTM(input_size=1, hidden_size=lstm_units, output_size=1, learning_rate=0.01)\n",
        "epochs = 30\n",
        "for epoch in range(epochs):\n",
        "    loss = 0\n",
        "    for x, y in zip(X_all, y_all):\n",
        "        model.forward(x)\n",
        "        loss += model.backward(np.array([y]))\n",
        "    loss /= len(X_all)\n",
        "    if epoch % 10 == 0:\n",
        "        print(f\"Epoch {epoch}, Loss: {loss:.5f}\")\n",
        "\n",
        "# Dự đoán giá trên tập test\n",
        "X_test, y_test = create_dataset(ts_test.values.flatten(), window_size)\n",
        "X_test = X_test.reshape((X_test.shape[0], X_test.shape[1], 1))\n",
        "\n",
        "y_pred = []\n",
        "for x in X_test:\n",
        "    pred = model.forward(x)\n",
        "    y_pred.append(pred[-1])  # lấy giá trị output cuối cùng (dự đoán ngày tiếp theo)\n",
        "\n",
        "y_pred = np.array(y_pred)\n"
      ]
    },
    {
      "cell_type": "markdown",
      "id": "aeadff9c",
      "metadata": {},
      "source": [
        "# Bước 6: Trực quan hóa kết quả dự đoán"
      ]
    },
    {
      "cell_type": "code",
      "execution_count": null,
      "id": "WRbQJHoZTtV-",
      "metadata": {
        "id": "WRbQJHoZTtV-"
      },
      "outputs": [],
      "source": [
        "\n",
        "plt.figure(figsize=(12,6))\n",
        "plt.plot(ts_test.index[window_size:], y_test, label='Giá thực tế')\n",
        "plt.plot(ts_test.index[window_size:], y_pred, label='Giá dự đoán LSTM+GA')\n",
        "plt.title(\"So sánh Giá thực tế và Giá dự đoán trên tập Test\")\n",
        "plt.xlabel(\"Ngày\")\n",
        "plt.ylabel(\"Giá đóng cửa\")\n",
        "plt.legend()\n",
        "plt.show()\n"
      ]
    },
    {
      "cell_type": "code",
      "execution_count": null,
      "id": "61de3867",
      "metadata": {
        "execution": {
          "iopub.execute_input": "2023-06-24T15:45:42.579748Z",
          "iopub.status.busy": "2023-06-24T15:45:42.579297Z",
          "iopub.status.idle": "2023-06-24T15:45:42.989626Z",
          "shell.execute_reply": "2023-06-24T15:45:42.988533Z"
        },
        "id": "61de3867",
        "outputId": "04b617b7-5f11-48a5-f62a-922741f17fec",
        "papermill": {
          "duration": 0.43139,
          "end_time": "2023-06-24T15:45:42.992264",
          "exception": false,
          "start_time": "2023-06-24T15:45:42.560874",
          "status": "completed"
        },
        "tags": []
      },
      "outputs": [],
      "source": [
        "# Vẽ thêm đường dữ đoán vào đồ thị\n",
        "plt.figure(figsize=(10, 6))\n",
        "plt.plot(ts_train.index, ts_train.values, 'blue', label='Train Data')#vễ tập dữ liệu train màu xanh da trời\n",
        "plt.plot(ts_test.index, ts_test.values, 'green', label='Test Data')#vẽ tập dữ liệu test màu xanh lá cây\n",
        "plt.plot(ts_test.index, true_predictions, 'orange', label='Forecasted Data')#vẽ đường dữ liệu dự đoán màu cam\n",
        "plt.legend()\n",
        "plt.xlabel('Time')\n",
        "plt.ylabel('Value')\n",
        "plt.show()"
      ]
    },
    {
      "cell_type": "code",
      "execution_count": null,
      "id": "35a7decc",
      "metadata": {
        "execution": {
          "iopub.execute_input": "2023-06-24T15:45:43.031275Z",
          "iopub.status.busy": "2023-06-24T15:45:43.030845Z",
          "iopub.status.idle": "2023-06-24T15:45:43.441099Z",
          "shell.execute_reply": "2023-06-24T15:45:43.439911Z"
        },
        "id": "35a7decc",
        "outputId": "7ba1fafc-8f20-4926-8146-1998b6b6d540",
        "papermill": {
          "duration": 0.433212,
          "end_time": "2023-06-24T15:45:43.443822",
          "exception": false,
          "start_time": "2023-06-24T15:45:43.010610",
          "status": "completed"
        },
        "tags": []
      },
      "outputs": [],
      "source": [
        "# vẽ biểu đồ so sánh dữ liệu thực tế và dữ liệu dự đoán (vẽ riêng ra để thấy và phân tích)\n",
        "plt.figure(figsize=(10, 6))\n",
        "plt.plot(ts_test.index, ts_test.values, label='Original Data')#vẽ đồ thị test (chính là đường xanh lá cây đã thấy ở các đô thị trên)\n",
        "plt.plot(ts_test.index, true_predictions, label='Forecasted Data')#vẽ đồ thị dự đoán(chính là đường màu cam đã thấy ở đồ thị trên )\n",
        "plt.legend()\n",
        "plt.xlabel('Time')\n",
        "plt.ylabel('Value')\n",
        "plt.title('ARIMA Forecast')#Gán tiêu đề cho biểu đồ là \"ARIMA Forecast\",mô tả đây là một biểu đồ thể hiện kết quả dự đoán bằng mô hình ARIMA=> sửa code chỗ này,thay thế ARIMA=LSTM+GA\n",
        "plt.show()"
      ]
    }
  ],
  "metadata": {
    "colab": {
      "include_colab_link": true,
      "provenance": []
    },
    "kernelspec": {
      "display_name": ".venv",
      "language": "python",
      "name": "python3"
    },
    "language_info": {
      "codemirror_mode": {
        "name": "ipython",
        "version": 3
      },
      "file_extension": ".py",
      "mimetype": "text/x-python",
      "name": "python",
      "nbconvert_exporter": "python",
      "pygments_lexer": "ipython3",
      "version": "3.12.3"
    },
    "papermill": {
      "default_parameters": {},
      "duration": 1042.541347,
      "end_time": "2023-06-24T15:45:46.826666",
      "environment_variables": {},
      "exception": null,
      "input_path": "__notebook__.ipynb",
      "output_path": "__notebook__.ipynb",
      "parameters": {},
      "start_time": "2023-06-24T15:28:24.285319",
      "version": "2.4.0"
    }
  },
  "nbformat": 4,
  "nbformat_minor": 5
}
