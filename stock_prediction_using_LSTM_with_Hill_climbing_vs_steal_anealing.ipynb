{
  "cells": [
    {
      "cell_type": "markdown",
      "metadata": {
        "colab_type": "text",
        "id": "view-in-github"
      },
      "source": [
        "<a href=\"https://colab.research.google.com/github/Sunny20235195/stock-market-price-prediction/blob/main/stock_prediction_using_LSTM_with_Hill_climbing_vs_steal_anealing.ipynb\" target=\"_parent\"><img src=\"https://colab.research.google.com/assets/colab-badge.svg\" alt=\"Open In Colab\"/></a>"
      ]
    },
    {
      "cell_type": "markdown",
      "metadata": {
        "id": "GMEiKskW4Eed"
      },
      "source": [
        "**Step 1**: Khai báo các thư viện cần thiết"
      ]
    },
    {
      "cell_type": "code",
      "execution_count": null,
      "metadata": {
        "id": "SjHwdWNPRdlY"
      },
      "outputs": [],
      "source": [
        "import numpy as np # thư viện tính toán số học\n",
        "import pandas as pd # thư viện giúp đọc file và xử lí dữ liệu dạng bảng\n",
        "import yfinance as yf # thư viện lấy dữ liệu\n",
        "import tensorflow as tf # thư viện model\n",
        "from tensorflow.keras.models import Sequential # Sắp xếp các lớp\n",
        "from tensorflow.keras.layers import Layer, LSTM, Dense, Dropout # Các lớp sử dụng trong mô hình\n",
        "from sklearn.preprocessing import MinMaxScaler # Chuẩn hóa dữ liệu\n",
        "from sklearn.metrics import mean_squared_error # Tính độ lỗi\n",
        "import matplotlib.pyplot as plt # Thư viện vẽ đồ thị\n",
        "import random # random"
      ]
    },
    {
      "cell_type": "markdown",
      "metadata": {
        "id": "ndIrm9XS5N6d"
      },
      "source": [
        "**Step 2**: Tiền xử lí dữ liệu"
      ]
    },
    {
      "cell_type": "code",
      "execution_count": null,
      "metadata": {
        "id": "DEgpp9qjRt5r"
      },
      "outputs": [],
      "source": [
        "# Tải dữ liệu 10 năm dùng thư viện yfinance\n",
        "def download_stock_data(ticker):\n",
        "    data = yf.download(ticker, period=\"10y\", interval=\"1d\")\n",
        "    return data\n"
      ]
    },
    {
      "cell_type": "code",
      "execution_count": null,
      "metadata": {
        "colab": {
          "base_uri": "https://localhost:8080/"
        },
        "id": "DPxIzB0Dm8di",
        "outputId": "1eeae5ce-a91a-40a2-ec0d-788b55c0e000"
      },
      "outputs": [],
      "source": [
        "# Ví dụ về 1 mã cổ phiếu\n",
        "data = download_stock_data(\"GOOG\")\n"
      ]
    },
    {
      "cell_type": "code",
      "execution_count": null,
      "metadata": {
        "colab": {
          "base_uri": "https://localhost:8080/",
          "height": 425
        },
        "id": "6ajboq6abi2E",
        "outputId": "fef180a4-a868-41d3-bb0e-d59c4261a63f"
      },
      "outputs": [],
      "source": [
        "# Đảm bảo dữ liệu là của các ngày liên tục ('D': daily),\n",
        "# các ngày không có dữ liệu (T7,CN) thì giá trị dữ liệu được gán NaN\n",
        "data = data.asfreq('D')\n",
        "\n",
        "# Kiểm tra 10 dòng đầu để đảm bảo không sót ngày nào\n",
        "data.tail(10)"
      ]
    },
    {
      "cell_type": "code",
      "execution_count": null,
      "metadata": {
        "colab": {
          "base_uri": "https://localhost:8080/",
          "height": 480
        },
        "id": "YeY-jcK1nbSK",
        "outputId": "ff9bbe46-7b95-46a7-dcb8-d58b048b2208"
      },
      "outputs": [],
      "source": [
        "# fillna() là hàm dùng để ghi đè các ô có giá trị NaN\n",
        "# method='ffill' (forward fill) nghĩa là: Nếu một ô có giá trị NaN,\n",
        "# hãy lấy giá trị ở dòng phía trên nó để điền vào ()\n",
        "data = data.fillna(method='ffill')\n",
        "\n",
        "# Kiểm tra 10 dòng đầu để đảm bảo không còn giá trị NaN nào.\n",
        "data.tail(10)"
      ]
    },
    {
      "cell_type": "code",
      "execution_count": null,
      "metadata": {
        "colab": {
          "base_uri": "https://localhost:8080/",
          "height": 425
        },
        "id": "ryXLMCG4oVWv",
        "outputId": "9fb5bdce-23a9-4936-c0eb-cc36281c15b5"
      },
      "outputs": [],
      "source": [
        "# Lấy ra duy nhất cột giá đóng cửa (Close) –\n",
        "# đây là dữ liệu quan trọng nhất trong phân tích tài chính và dự báo.\n",
        "close_prices = data[['Close']]\n",
        "\n",
        "# Kiểm tra 10 giá trị đầu của chuỗi Close, để đảm bảo dữ liệu được lọc đúng.\n",
        "close_prices.tail(10)"
      ]
    },
    {
      "cell_type": "code",
      "execution_count": null,
      "metadata": {
        "colab": {
          "base_uri": "https://localhost:8080/",
          "height": 564
        },
        "id": "GIE3nz7Y6KKV",
        "outputId": "61df6e30-2220-47a2-eda8-aad188b1d625"
      },
      "outputs": [],
      "source": [
        "# Vẽ đồ thị giá thực\n",
        "dates = data.index[:]\n",
        "plt.figure(figsize=(12, 6))\n",
        "plt.plot(dates, close_prices, label='Actual Price')\n",
        "plt.title('Stock Price Actual')\n",
        "plt.xlabel('Date')\n",
        "plt.ylabel('Stock Price')\n",
        "plt.legend()\n",
        "plt.grid(True)\n",
        "plt.show()\n"
      ]
    },
    {
      "cell_type": "markdown",
      "metadata": {
        "id": "_tJ2f7Gt7sOd"
      },
      "source": [
        "**Step 3**: Implement LSTM"
      ]
    },
    {
      "cell_type": "code",
      "execution_count": null,
      "metadata": {
        "id": "Q04FfUzPs1mX"
      },
      "outputs": [],
      "source": [
        "# Lớp LSTM tùy chỉnh kế thừa từ tf.keras.layers.Layer\n",
        "class CustomLSTM(tf.keras.layers.Layer):\n",
        "    def __init__(self, units, return_sequences=False, **kwargs):\n",
        "        super().__init__(**kwargs)\n",
        "        self.units = units  # số lượng đơn vị ẩn (neurons)\n",
        "        self.return_sequences = return_sequences  # có trả về toàn bộ chuỗi hay chỉ bước cuối\n",
        "\n",
        "    def build(self, input_shape):\n",
        "        self.input_dim = input_shape[-1]  # số chiều của đầu vào tại mỗi bước thời gian\n",
        "\n",
        "        # Ma trận trọng số cho đầu vào x_t\n",
        "        self.W_f = self.add_weight(shape=(self.input_dim, self.units), initializer=\"glorot_uniform\", name=\"W_f\")  # forget gate\n",
        "        self.W_i = self.add_weight(shape=(self.input_dim, self.units), initializer=\"glorot_uniform\", name=\"W_i\")  # input gate\n",
        "        self.W_c = self.add_weight(shape=(self.input_dim, self.units), initializer=\"glorot_uniform\", name=\"W_c\")  # candidate cell\n",
        "        self.W_o = self.add_weight(shape=(self.input_dim, self.units), initializer=\"glorot_uniform\", name=\"W_o\")  # output gate\n",
        "\n",
        "        # Ma trận trọng số cho trạng thái ẩn h_t\n",
        "        self.U_f = self.add_weight(shape=(self.units, self.units), initializer=\"orthogonal\", name=\"U_f\")\n",
        "        self.U_i = self.add_weight(shape=(self.units, self.units), initializer=\"orthogonal\", name=\"U_i\")\n",
        "        self.U_c = self.add_weight(shape=(self.units, self.units), initializer=\"orthogonal\", name=\"U_c\")\n",
        "        self.U_o = self.add_weight(shape=(self.units, self.units), initializer=\"orthogonal\", name=\"U_o\")\n",
        "\n",
        "        # Các bias cho từng cổng\n",
        "        self.b_f = self.add_weight(shape=(self.units,), initializer=\"zeros\", name=\"b_f\")\n",
        "        self.b_i = self.add_weight(shape=(self.units,), initializer=\"zeros\", name=\"b_i\")\n",
        "        self.b_c = self.add_weight(shape=(self.units,), initializer=\"zeros\", name=\"b_c\")\n",
        "        self.b_o = self.add_weight(shape=(self.units,), initializer=\"zeros\", name=\"b_o\")\n",
        "\n",
        "    def call(self, inputs):\n",
        "        batch_size = tf.shape(inputs)[0]      # số lượng mẫu trong batch\n",
        "        time_steps = inputs.shape[1]          # số bước thời gian (sequence length)\n",
        "        h_t = tf.zeros((batch_size, self.units))  # khởi tạo trạng thái ẩn ban đầu h_0\n",
        "        c_t = tf.zeros((batch_size, self.units))  # khởi tạo trạng thái ô nhớ ban đầu c_0\n",
        "        outputs = []  # lưu tất cả hidden states theo thời gian\n",
        "\n",
        "        # Duyệt qua từng bước thời gian\n",
        "        for t in range(time_steps):\n",
        "            x_t = inputs[:, t, :]  # lấy đầu vào tại thời điểm t\n",
        "\n",
        "            # Tính toán các cổng\n",
        "            f_t = tf.sigmoid(tf.matmul(x_t, self.W_f) + tf.matmul(h_t, self.U_f) + self.b_f)  # cổng quên\n",
        "            i_t = tf.sigmoid(tf.matmul(x_t, self.W_i) + tf.matmul(h_t, self.U_i) + self.b_i)  # cổng đầu vào\n",
        "            o_t = tf.sigmoid(tf.matmul(x_t, self.W_o) + tf.matmul(h_t, self.U_o) + self.b_o)  # cổng đầu ra\n",
        "            c_hat_t = tf.tanh(tf.matmul(x_t, self.W_c) + tf.matmul(h_t, self.U_c) + self.b_c)  # giá trị ô nhớ ứng viên\n",
        "\n",
        "            # Cập nhật trạng thái ô nhớ và trạng thái ẩn\n",
        "            c_t = f_t * c_t + i_t * c_hat_t  # công thức cập nhật trạng thái ô nhớ\n",
        "            h_t = o_t * tf.tanh(c_t)         # công thức cập nhật trạng thái ẩn\n",
        "\n",
        "            outputs.append(h_t)  # lưu trạng thái ẩn hiện tại\n",
        "\n",
        "        # Kết quả có shape (batch_size, time_steps, units)\n",
        "        outputs = tf.stack(outputs, axis=1)\n",
        "\n",
        "        if self.return_sequences:\n",
        "            return outputs            # trả về toàn bộ chuỗi các trạng thái ẩn\n",
        "        else:\n",
        "            return outputs[:, -1, :]  # chỉ trả về trạng thái ẩn cuối cùng (cuối chuỗi)\n"
      ]
    },
    {
      "cell_type": "code",
      "execution_count": null,
      "metadata": {
        "id": "VckLY2Q6RzbJ"
      },
      "outputs": [],
      "source": [
        "# Step 3: Build LSTM model\n",
        "def build_model(input_shape, units=50):\n",
        "    model = Sequential() # giúp xếp các lớp\n",
        "    model.add(CustomLSTM(units, return_sequences=True, input_shape=input_shape))\n",
        "    model.add(Dropout(0.2))\n",
        "    model.add(CustomLSTM(units, return_sequences=False))\n",
        "    model.add(Dropout(0.3))\n",
        "    model.add(Dense(1))\n",
        "    model.compile(optimizer='adam', loss='mse')\n",
        "    return model"
      ]
    },
    {
      "cell_type": "markdown",
      "metadata": {
        "id": "vhumaa7L8pit"
      },
      "source": [
        "**Step 3.2**: Option sử dụng LSTM của thư viện (nhanh hơn) (không chạy đoạn code này khi đã chạy phần Step 3 và ngược lại)\n"
      ]
    },
    {
      "cell_type": "code",
      "execution_count": null,
      "metadata": {
        "id": "C7EZ-xue84hF"
      },
      "outputs": [],
      "source": [
        "# Step 3.2: Build LSTM model using library\n",
        "def build_model(input_shape, units=50):\n",
        "    model = Sequential() # giúp xếp các lớp\n",
        "    model.add(LSTM(units, return_sequences=True, input_shape=input_shape))\n",
        "    model.add(LSTM(units, return_sequences=False))\n",
        "    model.add(Dropout(0.3))\n",
        "    model.add(Dense(1))\n",
        "    model.compile(optimizer='adam', loss='mse')\n",
        "    return model"
      ]
    },
    {
      "cell_type": "markdown",
      "metadata": {
        "id": "u5wdaXbV9Zr-"
      },
      "source": [
        "**Step 4**: Tối ưu hóa bằng GA"
      ]
    },
    {
      "cell_type": "code",
      "execution_count": null,
      "metadata": {
        "id": "na8rvtyFRy05"
      },
      "outputs": [],
      "source": [
        "# Prepare data\n",
        "def create_dataset(data, window_size=60): # kích thước của sổ mặc định(nếu không truyền vào thì window_size=60)\n",
        "    X, y = [], []\n",
        "    for i in range(window_size, len(data)):\n",
        "        X.append(data[i-window_size:i])\n",
        "        y.append(data[i])\n",
        "    return np.array(X), np.array(y)"
      ]
    },
    {
      "cell_type": "code",
      "execution_count": null,
      "metadata": {
        "id": "v6_InCqSB0qz"
      },
      "outputs": [],
      "source": [
        "# Lấy dữ liệu gốc\n",
        "close_prices = data['Close'].values.reshape(-1, 1)\n",
        "total_len = len(close_prices)\n",
        "\n",
        "# Chia theo 80% train, 10% val, 10% test\n",
        "train_end = int(0.8 * total_len)\n",
        "val_end = int(0.9 * total_len)\n",
        "\n",
        "# ⚠️ Giữ lại 90 ngày trước khi chia để đủ cho mọi window_size\n",
        "max_window_size = 90\n",
        "train_raw = close_prices[:train_end]\n",
        "val_raw = close_prices[train_end - max_window_size:val_end]\n",
        "test_raw = close_prices[val_end - max_window_size:]\n",
        "\n",
        "# Chuẩn hóa\n",
        "scaler = MinMaxScaler()\n",
        "train_scaled = scaler.fit_transform(train_raw)\n",
        "val_scaled = scaler.transform(val_raw)\n",
        "test_scaled = scaler.transform(test_raw)\n"
      ]
    },
    {
      "cell_type": "markdown",
      "metadata": {
        "id": "NMx5CNgYMH6y"
      },
      "source": [
        "Step 5: Chạy thuật toán HC + SA để tìm ra cá thể tốt nhất"
      ]
    },
    {
      "cell_type": "code",
      "execution_count": null,
      "metadata": {
        "id": "nCkmwrTfmIzE"
      },
      "outputs": [],
      "source": [
        "import random\n",
        "import copy\n",
        "import math\n",
        "from sklearn.metrics import mean_squared_error\n",
        "import numpy as np\n",
        "import tensorflow as tf\n",
        "\n",
        "# ====================================\n",
        "# 1. Các hàm phụ\n",
        "# ====================================\n",
        "\n",
        "def create_individual():\n",
        "    \"\"\"\n",
        "    Tạo một cá thể ngẫu nhiên cho hyperparameter tuning:\n",
        "      - window_size: int trong [30, 90]\n",
        "      - units: int trong [64, 128]\n",
        "    Trả về dict {'window_size': ..., 'units': ...}\n",
        "    \"\"\"\n",
        "    return {\n",
        "        'window_size': random.randint(30, 90),\n",
        "        'units': random.choice([64, 128])\n",
        "    }\n",
        "\n",
        "\n",
        "def create_neighbor(ind):\n",
        "    \"\"\"\n",
        "    Tạo một cá thể láng giềng (neighbor) từ ind hiện tại.\n",
        "    Cơ chế đột biến:\n",
        "      - 50% khả năng thay đổi window_size ±3 hoặc ±5 (giữ trong [30, 90])\n",
        "      - 50% khả năng đổi sang một giá trị units khác trong [64, 128]\n",
        "    Trả về dict mới.\n",
        "    \"\"\"\n",
        "    neighbor = copy.deepcopy(ind)\n",
        "    if random.random() < 0.5:\n",
        "        delta = random.choice([-5, -3, 3, 5])\n",
        "        new_ws = neighbor['window_size'] + delta\n",
        "        neighbor['window_size'] = max(30, min(90, new_ws))\n",
        "    else:\n",
        "        choices = [64, 128]\n",
        "        choices.remove(neighbor['units'])\n",
        "        neighbor['units'] = random.choice(choices)\n",
        "    return neighbor\n",
        "\n",
        "\n",
        "def fitness(ind):\n",
        "    \"\"\"\n",
        "    Tính MSE cho cá thể ind (dict có window_size, units).\n",
        "    - Giảm epochs xuống 2 để nhanh.\n",
        "    - Thêm verbose=0 cho model.fit/predict.\n",
        "    - Nếu dataset trống hoặc có lỗi, trả về inf để phạt.\n",
        "    \"\"\"\n",
        "    ws = ind['window_size']\n",
        "    units = ind['units']\n",
        "\n",
        "    try:\n",
        "        X_train, y_train = create_dataset(train_scaled, ws)\n",
        "        X_val, y_val     = create_dataset(val_scaled, ws)\n",
        "\n",
        "        if len(X_train) == 0 or len(X_val) == 0:\n",
        "            return float('inf')\n",
        "\n",
        "        # Xây model (đã sửa build_model để khai báo Input layer nếu cần)\n",
        "        model = build_model((ws, 1), units=units)\n",
        "\n",
        "        model.fit(X_train, y_train, epochs=2, batch_size=32, verbose=0)\n",
        "        preds = model.predict(X_val, verbose=0)\n",
        "        return mean_squared_error(y_val, preds)\n",
        "\n",
        "    except Exception as e:\n",
        "        print(f\"Warning: fitness failed for {ind}: {e}\")\n",
        "        return float('inf')\n",
        "\n",
        "# 2. Hàm hill_climb_annealing (HC + SA)\n",
        "\n",
        "def hill_climb_annealing(max_iterations=100,T_init=1.0,alpha=0.95,min_temperature=1e-3,target_mse=None,random_seed=None):\n",
        "    \"\"\"\n",
        "    Tìm best_hyperparams bằng Hill Climbing + Simulated Annealing.\n",
        "    Args:\n",
        "      - max_iterations: số bước neighbor proposals tối đa\n",
        "      - T_init: nhiệt độ khởi đầu\n",
        "      - alpha: hệ số giảm nhiệt (0 < alpha < 1)\n",
        "      - min_temperature: dừng khi T < min_temperature\n",
        "      - target_mse: nếu không None, dừng khi best_mse <= target_mse\n",
        "      - random_seed: seed để tái lập kết quả\n",
        "\n",
        "    Trả về:\n",
        "      - best_individual: {'window_size', 'units'}\n",
        "    \"\"\"\n",
        "    if random_seed is not None:\n",
        "        random.seed(random_seed)\n",
        "        np.random.seed(random_seed)\n",
        "        tf.random.set_seed(random_seed)\n",
        "\n",
        "    # Khởi tạo\n",
        "    current = create_individual()\n",
        "    current_mse = fitness(current)\n",
        "    best_individual = copy.deepcopy(current)\n",
        "    best_mse = current_mse\n",
        "\n",
        "    T = T_init\n",
        "    iteration = 0\n",
        "    print(f\"Initial: ws={current['window_size']}, units={current['units']}, MSE={current_mse:.6f}\")\n",
        "\n",
        "    # Vòng lặp chính\n",
        "    while iteration < max_iterations and T > min_temperature:\n",
        "        iteration += 1\n",
        "\n",
        "        neighbor = create_neighbor(current)\n",
        "        neighbor_mse = fitness(neighbor)\n",
        "\n",
        "        # Nếu neighbor tốt hơn, accept; ngược lại vẫn có thể accept theo SA\n",
        "        if neighbor_mse < current_mse:\n",
        "            accept = True\n",
        "        else:\n",
        "            Δ = neighbor_mse - current_mse\n",
        "            p = math.exp(-Δ / T)\n",
        "            accept = (random.random() < p)\n",
        "\n",
        "        if accept:\n",
        "            current = neighbor\n",
        "            current_mse = neighbor_mse\n",
        "\n",
        "            # Cập nhật best nếu cần\n",
        "            if current_mse < best_mse:\n",
        "                best_mse = current_mse\n",
        "                best_individual = copy.deepcopy(current)\n",
        "                print(f\"Iter {iteration:3d}: New best → ws={best_individual['window_size']}, \"\n",
        "                      f\"units={best_individual['units']}, MSE={best_mse:.6f}, T={T:.4f}\")\n",
        "\n",
        "        # Giảm nhiệt độ\n",
        "        T *= alpha\n",
        "\n",
        "        # Dừng sớm nếu target_mse đã đạt\n",
        "        if (target_mse is not None) and (best_mse <= target_mse):\n",
        "            print(f\"\\nEarly stopping at iter {iteration}: reached target MSE ≤ {target_mse:.6f}\")\n",
        "            break\n",
        "\n",
        "    print(f\"\\nFinal best: ws={best_individual['window_size']}, units={best_individual['units']}, MSE={best_mse:.6f}\")\n",
        "    return best_individual"
      ]
    },
    {
      "cell_type": "code",
      "execution_count": null,
      "metadata": {
        "colab": {
          "base_uri": "https://localhost:8080/"
        },
        "id": "299Bo5C7SbdZ",
        "outputId": "0f3feb7c-774a-4f8b-9970-b065913e90ab"
      },
      "outputs": [],
      "source": [
        "# HC + SA optimization\n",
        "best_params = hill_climb_annealing()\n"
      ]
    },
    {
      "cell_type": "markdown",
      "metadata": {
        "id": "RzNveWFmMW1h"
      },
      "source": [
        "**Step 6**: Huấn luyện và tính RMSE đối với cá thể tốt nhất được chọn"
      ]
    },
    {
      "cell_type": "code",
      "execution_count": null,
      "metadata": {
        "colab": {
          "background_save": true,
          "base_uri": "https://localhost:8080/"
        },
        "id": "XvvK1lNaSjFE",
        "outputId": "96e72f06-3373-474f-8977-2a17cfac6b70"
      },
      "outputs": [],
      "source": [
        "from keras.callbacks import EarlyStopping\n",
        "\n",
        "# 1. Lấy dữ liệu gốc (chưa chuẩn hóa)\n",
        "close_prices = data['Close'].values.reshape(-1, 1)\n",
        "\n",
        "# 2. Chia dữ liệu theo tỉ lệ 80% train, 10% val, 10% test\n",
        "total_len = len(close_prices)\n",
        "train_end = int(total_len * 0.8)\n",
        "val_end = int(total_len * 0.9)\n",
        "\n",
        "train_prices = close_prices[:train_end]\n",
        "val_prices = close_prices[train_end - best_params['window_size']:val_end]\n",
        "test_prices = close_prices[val_end - best_params['window_size']:]  # giữ lại window_size ngày\n",
        "\n",
        "# 3. Fit scaler trên tập train và transform cả 3 phần\n",
        "scaler = MinMaxScaler()\n",
        "scaled_train = scaler.fit_transform(train_prices)\n",
        "scaled_val = scaler.transform(val_prices)\n",
        "scaled_test = scaler.transform(test_prices)\n",
        "\n",
        "# 4. Tạo dataset\n",
        "X_train, y_train = create_dataset(scaled_train, best_params['window_size'])\n",
        "X_val, y_val = create_dataset(scaled_val, best_params['window_size'])\n",
        "X_test, y_test = create_dataset(scaled_test, best_params['window_size'])\n",
        "\n",
        "# 5. Gộp train + val để train mô hình cuối cùng\n",
        "X_final_train = np.concatenate([X_train, X_val])\n",
        "y_final_train = np.concatenate([y_train, y_val])\n",
        "\n",
        "# 6. Xây mô hình\n",
        "model = build_model((best_params['window_size'], 1), best_params['units'])\n",
        "\n",
        "# 7. EarlyStopping (monitor trên `loss` vì không có val)\n",
        "early_stop = EarlyStopping(\n",
        "    monitor='loss',\n",
        "    patience=5,\n",
        "    restore_best_weights=True\n",
        ")\n",
        "\n",
        "# 8. Huấn luyện trên train + val\n",
        "model.fit(\n",
        "    X_final_train, y_final_train,\n",
        "    epochs=100,\n",
        "    batch_size=32,\n",
        "    verbose=1,\n",
        "    callbacks=[early_stop]\n",
        ")\n",
        "\n",
        "# 9. Dự đoán trên test set và tính RMSE\n",
        "preds = model.predict(X_test)\n",
        "rmse = np.sqrt(mean_squared_error(y_test, preds))\n",
        "print(\"✅ Test RMSE:\", rmse)"
      ]
    },
    {
      "cell_type": "code",
      "execution_count": null,
      "metadata": {
        "colab": {
          "base_uri": "https://localhost:8080/",
          "height": 560
        },
        "id": "WGn2YII3B0q2",
        "outputId": "6f30dbcf-d748-422b-d4ad-92ae65359e05"
      },
      "outputs": [],
      "source": [
        "# Dự đoán từng phần\n",
        "train_preds = model.predict(X_train)\n",
        "val_preds = model.predict(X_val)\n",
        "test_preds = model.predict(X_test)\n",
        "\n",
        "# Inverse transform các phần\n",
        "y_train_rescaled = scaler.inverse_transform(y_train)\n",
        "train_preds_rescaled = scaler.inverse_transform(train_preds)\n",
        "\n",
        "y_val_rescaled = scaler.inverse_transform(y_val)\n",
        "val_preds_rescaled = scaler.inverse_transform(val_preds)\n",
        "\n",
        "y_test_rescaled = scaler.inverse_transform(y_test)\n",
        "test_preds_rescaled = scaler.inverse_transform(test_preds)\n",
        "\n",
        "# Lấy index ngày tương ứng\n",
        "train_start = best_params['window_size']\n",
        "val_start = train_end\n",
        "test_start = val_end\n",
        "\n",
        "train_dates = data.index[train_start:train_start + len(y_train)]\n",
        "val_dates = data.index[val_start:val_start + len(y_val)]\n",
        "test_dates = data.index[test_start:test_start + len(y_test)]\n",
        "\n",
        "# Vẽ biểu đồ chung\n",
        "plt.figure(figsize=(14, 6))\n",
        "plt.plot(train_dates, y_train_rescaled, label='Actual Train', color='blue')\n",
        "#plt.plot(train_dates, train_preds_rescaled, label='Predicted Train', color='black', linestyle='--')\n",
        "\n",
        "plt.plot(val_dates, y_val_rescaled, label='Actual Val', color='orange')\n",
        "plt.plot(val_dates, val_preds_rescaled, label='Predicted Val', color='black', linestyle='--')\n",
        "\n",
        "plt.plot(test_dates, y_test_rescaled, label='Actual Test', color='green')\n",
        "plt.plot(test_dates, test_preds_rescaled, label='Predicted Test', color='red', linestyle='--')\n",
        "\n",
        "plt.title('HC + SA: Stock Price Prediction vs Actual (Train, Val, Test)')\n",
        "plt.xlabel('Date')\n",
        "plt.ylabel('Stock Price')\n",
        "plt.legend()\n",
        "plt.grid(True)\n",
        "plt.tight_layout()\n",
        "plt.show()\n"
      ]
    },
    {
      "cell_type": "code",
      "execution_count": null,
      "metadata": {
        "colab": {
          "base_uri": "https://localhost:8080/",
          "height": 625
        },
        "id": "dsDQ1GQiB0q2",
        "outputId": "a322d7c7-212b-46d1-a0f1-b927f3e0e94f"
      },
      "outputs": [],
      "source": [
        "# Dự đoán trên tập validation\n",
        "val_preds = model.predict(X_val)\n",
        "\n",
        "# Inverse transform y_val và dự đoán\n",
        "y_val_rescaled = scaler.inverse_transform(y_val)\n",
        "val_preds_rescaled = scaler.inverse_transform(val_preds)\n",
        "\n",
        "# MAE trên tập validation\n",
        "val_mae = np.mean(np.abs(y_val_rescaled - val_preds_rescaled))\n",
        "print(\"Độ sai số trung bình trên tập validation:\", val_mae, \"dolar\")\n",
        "\n",
        "# Lấy index ngày đúng cho tập validation\n",
        "val_start_index = train_end + best_params['window_size']\n",
        "val_dates = data.index[val_start_index : val_start_index + len(y_val)]\n",
        "\n",
        "# Vẽ biểu đồ\n",
        "plt.figure(figsize=(12, 6))\n",
        "plt.plot(val_dates, y_val_rescaled, label='Actual Price', color='orange')\n",
        "plt.plot(val_dates, val_preds_rescaled, label='Predicted Price', color='black', linestyle='--')\n",
        "plt.title('HC + SA: Validation Set: Predicted vs Actual Stock Price')\n",
        "plt.xlabel('Date')\n",
        "plt.ylabel('Stock Price')\n",
        "plt.legend()\n",
        "plt.grid(True)\n",
        "plt.tight_layout()\n",
        "plt.show()\n"
      ]
    },
    {
      "cell_type": "code",
      "execution_count": null,
      "metadata": {
        "colab": {
          "base_uri": "https://localhost:8080/",
          "height": 599
        },
        "id": "uE-b2ZH_B0q3",
        "outputId": "b5fb3402-0d34-423a-bbd9-7d7d490a32e1"
      },
      "outputs": [],
      "source": [
        "# Plot predictions vs actual\n",
        "y_test_rescaled = scaler.inverse_transform(y_test)\n",
        "preds_rescaled = scaler.inverse_transform(preds)\n",
        "mae = np.mean(np.abs(y_test_rescaled- preds_rescaled))\n",
        "print(\"Độ sai số trung bình trên tập test:\", mae, \"dolar\")\n",
        "mape = np.mean(np.abs((y_test_rescaled - preds_rescaled) / y_test_rescaled)) * 100 # Tỷ lệ phần trăm sai số trung bình\n",
        "print(f\"MAPE trên tập test: {mape:.2f}%\")\n",
        "# Get the corresponding dates for the last 100 entries (the test set)\n",
        "dates = data.index[-len(y_test):]  # data is the original DataFrame from yfinance\n",
        "plt.figure(figsize=(12, 6))\n",
        "plt.plot(dates, y_test_rescaled, label='Actual Price', color='green')\n",
        "plt.plot(dates, preds_rescaled, label='Predicted Price', color='red', linestyle='--')\n",
        "plt.title('HC + SA: Stock Price Prediction vs Actual')\n",
        "plt.xlabel('Date')\n",
        "plt.ylabel('Stock Price')\n",
        "plt.legend()\n",
        "plt.grid(True)\n",
        "plt.show()\n"
      ]
    },
    {
      "cell_type": "markdown",
      "metadata": {
        "id": "bB4yfd3LMpLx"
      },
      "source": [
        "**Step 8**: Vẽ đồ thị 100 ngày gần nhất"
      ]
    },
    {
      "cell_type": "code",
      "execution_count": null,
      "metadata": {
        "colab": {
          "base_uri": "https://localhost:8080/",
          "height": 564
        },
        "id": "SnMpQGDw3SZu",
        "outputId": "78985a37-a584-4600-d824-dea98a573d41"
      },
      "outputs": [],
      "source": [
        "# Chỉ lấy 100 mẫu cuối cùng\n",
        "num_plot = 100\n",
        "y_test_subset = y_test[-num_plot:]\n",
        "preds_subset = preds[-num_plot:]\n",
        "\n",
        "# Biến đổi ngược lại giá gốc\n",
        "y_test_rescaled = scaler.inverse_transform(y_test_subset)\n",
        "preds_rescaled = scaler.inverse_transform(preds_subset)\n",
        "\n",
        "# Lấy đúng 100 ngày cuối tương ứng trong dữ liệu gốc\n",
        "dates = data.index[-num_plot:]\n",
        "\n",
        "# Vẽ đồ thị\n",
        "plt.figure(figsize=(12, 6))\n",
        "plt.plot(dates, y_test_rescaled, label='Actual Price', color='green')\n",
        "plt.plot(dates, preds_rescaled, label='Predicted Price', color='red', linestyle='--')\n",
        "plt.title('GA: Stock Price Prediction vs Actual (Last 100 Days)')\n",
        "plt.xlabel('Date')\n",
        "plt.ylabel('Stock Price')\n",
        "plt.legend()\n",
        "plt.grid(True)\n",
        "plt.show()\n"
      ]
    },
    {
      "cell_type": "markdown",
      "metadata": {
        "id": "PGGVpXFFM50y"
      },
      "source": [
        "**Step 9:** Dự đoán giá những ngày sau đó (Chưa có dữ liệu thực)\n",
        "\n"
      ]
    },
    {
      "cell_type": "code",
      "execution_count": null,
      "metadata": {
        "id": "Y-j350fmqjqG"
      },
      "outputs": [],
      "source": [
        "def predict_next_days(model, last_sequence, days_to_predict=30, scaler=None):\n",
        "    \"\"\"\n",
        "    Dự đoán `days_to_predict` ngày tiếp theo dựa vào chuỗi đầu vào `last_sequence`.\n",
        "    Trả về danh sách các giá trị thực tế (đã inverse_transform nếu cần).\n",
        "    \"\"\"\n",
        "    predicted = []\n",
        "    current_input = last_sequence.reshape(1, last_sequence.shape[0], 1)\n",
        "\n",
        "    for _ in range(days_to_predict):\n",
        "        next_price = model.predict(current_input, verbose=0)[0][0]\n",
        "        predicted.append(next_price)\n",
        "        current_input = np.append(current_input[:, 1:, :], [[[next_price]]], axis=1)\n",
        "\n",
        "    if scaler:\n",
        "        predicted = scaler.inverse_transform(np.array(predicted).reshape(-1, 1)).flatten()\n",
        "\n",
        "    return predicted\n"
      ]
    },
    {
      "cell_type": "code",
      "execution_count": null,
      "metadata": {
        "id": "X76I9X7Xqo27"
      },
      "outputs": [],
      "source": [
        "# Lấy ngày cuối cùng trong dữ liệu yfinance\n",
        "last_date = data.index[-1]\n",
        "\n",
        "# Tạo 30 ngày làm việc tiếp theo (bỏ cuối tuần)\n",
        "future_dates = pd.bdate_range(start=last_date + pd.Timedelta(days=1), periods=30)\n"
      ]
    },
    {
      "cell_type": "code",
      "execution_count": null,
      "metadata": {
        "colab": {
          "base_uri": "https://localhost:8080/"
        },
        "id": "tOl9ZOhRqry-",
        "outputId": "cc19edd2-81d1-48f3-f87d-f6fb61950bc0"
      },
      "outputs": [],
      "source": [
        "# Lấy chuỗi gần nhất\n",
        "last_sequence = scaled_test[-best_params['window_size']:]\n",
        "\n",
        "# Dự đoán 30 ngày tới\n",
        "predicted_prices = predict_next_days(model, last_sequence, days_to_predict=30, scaler=scaler)\n",
        "\n",
        "# In kết quả theo ngày\n",
        "for date, price in zip(future_dates, predicted_prices):\n",
        "    print(f\"{date.strftime('%Y-%m-%d')}: {price:.2f}\")\n"
      ]
    },
    {
      "cell_type": "code",
      "execution_count": null,
      "metadata": {
        "colab": {
          "base_uri": "https://localhost:8080/",
          "height": 591
        },
        "id": "1NvFfbFMsGbm",
        "outputId": "41be518f-3bf7-4cf6-99bf-3a99c42f2fbc"
      },
      "outputs": [],
      "source": [
        "# Vẽ biểu đồ\n",
        "plt.figure(figsize=(12, 6))\n",
        "plt.plot(future_dates, predicted_prices, label='Predicted Price (Next 30 Days)', color='orange')\n",
        "plt.title('Predicted Stock Prices for Next 30 Business Days')\n",
        "plt.xlabel('Date')\n",
        "plt.ylabel('Stock Price')\n",
        "plt.xticks(rotation=45)\n",
        "plt.grid(True)\n",
        "plt.legend()\n",
        "plt.tight_layout()\n",
        "plt.show()\n"
      ]
    },
    {
      "cell_type": "markdown",
      "metadata": {
        "id": "XkHDMdtuNNJC"
      },
      "source": [
        "**Step 10**: Thêm vòng for để dự đoán nhiều loại cổ phiếu (Code y như phần dự đoán 1 cổ phiếu chỉ thêm vòng for)"
      ]
    },
    {
      "cell_type": "code",
      "execution_count": null,
      "metadata": {
        "id": "MYZKGQIotPv7"
      },
      "outputs": [],
      "source": [
        "symbols = [\"AAPL\", \"GOOG\", \"MSFT\", \"AMZN\"]"
      ]
    },
    {
      "cell_type": "code",
      "execution_count": null,
      "metadata": {
        "id": "nDxTU8ActTyT"
      },
      "outputs": [],
      "source": [
        "for symbol in symbols:\n",
        "    print(f\"\\n========= Processing {symbol} =========\")\n",
        "\n",
        "    # code này y như phần trên\n",
        "    #1. Tiền xử lí\n",
        "    data = download_stock_data(symbol)\n",
        "    data = data.asfreq('D')\n",
        "    data = data.fillna(method='ffill')\n",
        "    # Tìm giá trị tối ưu\n",
        "    best_params = genetic_algorithm()\n",
        "    print(\"Best Parameters from GA:\", best_params)\n",
        "\n",
        "    # 2. Chia dữ liệu trước khi scale\n",
        "    split_index = int(len(close_prices) * 0.8)\n",
        "    train_prices = close_prices[:split_index]\n",
        "    test_prices = close_prices[split_index - best_params['window_size']:]\n",
        "\n",
        "    # 3. Fit scaler trên tập train và transform cả hai phần\n",
        "    scaler = MinMaxScaler()\n",
        "    scaled_train = scaler.fit_transform(train_prices)\n",
        "    scaled_test = scaler.transform(test_prices)\n",
        "\n",
        "    # 4. Tạo dataset\n",
        "    X_train_final, y_train_final = create_dataset(scaled_train, best_params['window_size'])\n",
        "    X_test, y_test = create_dataset(scaled_test, best_params['window_size'])\n",
        "\n",
        "    model = build_model((best_params['window_size'], 1), best_params['units'])\n",
        "    model.fit(X_train_final, y_train_final, epochs=30, batch_size=32, verbose=1)\n",
        "    preds = model.predict(X_test)\n",
        "    rmse = np.sqrt(mean_squared_error(y_test, preds))\n",
        "    print(\"Test RMSE:\", rmse)\n",
        "\n",
        "    y_test_rescaled = scaler.inverse_transform(y_test)\n",
        "    preds_rescaled = scaler.inverse_transform(preds)\n",
        "    dates = data.index[-len(y_test):]\n",
        "\n",
        "    plt.figure(figsize=(12, 6))\n",
        "    plt.plot(dates, y_test_rescaled, label='Actual Price')\n",
        "    plt.plot(dates, preds_rescaled, label='Predicted Price')\n",
        "    plt.title(f'{symbol} Stock Price Prediction vs Actual')\n",
        "    plt.xlabel('Date')\n",
        "    plt.ylabel('Stock Price')\n",
        "    plt.legend()\n",
        "    plt.grid(True)\n",
        "    plt.show()\n"
      ]
    }
  ],
  "metadata": {
    "accelerator": "GPU",
    "colab": {
      "gpuType": "T4",
      "include_colab_link": true,
      "provenance": []
    },
    "kernelspec": {
      "display_name": ".conda",
      "language": "python",
      "name": "python3"
    },
    "language_info": {
      "codemirror_mode": {
        "name": "ipython",
        "version": 3
      },
      "file_extension": ".py",
      "mimetype": "text/x-python",
      "name": "python",
      "nbconvert_exporter": "python",
      "pygments_lexer": "ipython3",
      "version": "3.10.16"
    }
  },
  "nbformat": 4,
  "nbformat_minor": 0
}
